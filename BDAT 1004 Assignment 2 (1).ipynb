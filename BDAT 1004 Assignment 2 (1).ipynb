{
 "cells": [
  {
   "cell_type": "markdown",
   "metadata": {},
   "source": [
    "# Assignment 2 Variables, Conditions and Functions "
   ]
  },
  {
   "cell_type": "markdown",
   "metadata": {},
   "source": [
    "## Chapter 2"
   ]
  },
  {
   "cell_type": "markdown",
   "metadata": {},
   "source": [
    "### Exercise 2: Write a program that uses input to prompt a user for their name and then welcomes them."
   ]
  },
  {
   "cell_type": "code",
   "execution_count": 11,
   "metadata": {},
   "outputs": [
    {
     "name": "stdout",
     "output_type": "stream",
     "text": [
      "what is your name?\n",
      "satish\n",
      "your name is satish\n"
     ]
    }
   ],
   "source": [
    "name=input(\"what is your name?\\n\")\n",
    "print(\"your name is\", name) \n"
   ]
  },
  {
   "cell_type": "markdown",
   "metadata": {},
   "source": [
    "### Exercise 3: Write a program to prompt the user for hours and rate per hour to compute gross pay."
   ]
  },
  {
   "cell_type": "code",
   "execution_count": 9,
   "metadata": {},
   "outputs": [
    {
     "name": "stdout",
     "output_type": "stream",
     "text": [
      "How many Hours did you worked?\n",
      "10\n",
      "What is the rate per hour?\n",
      "15\n",
      "yor gross pay is 150\n"
     ]
    }
   ],
   "source": [
    "hours=int(input(\"How many Hours did you worked?\\n\"))\n",
    "rate=int(input(\"What is the rate per hour?\\n\"))\n",
    "gross= hours * rate\n",
    "print(\"yor gross pay is\",gross)\n"
   ]
  },
  {
   "cell_type": "markdown",
   "metadata": {},
   "source": [
    "### Exercise 4: Assume that we execute the following assignment statements:"
   ]
  },
  {
   "cell_type": "code",
   "execution_count": 21,
   "metadata": {},
   "outputs": [
    {
     "name": "stdout",
     "output_type": "stream",
     "text": [
      "8\n",
      "8.5\n",
      "4.0\n",
      "7\n",
      "<class 'int'> <class 'float'> <class 'float'> <class 'int'>\n"
     ]
    }
   ],
   "source": [
    "width=17\n",
    "height=12.0\n",
    "print(width//2)\n",
    "\n",
    "print(width/2.0)\n",
    "\n",
    "print(height/3)\n",
    "\n",
    "print(1+2*3)\n",
    "print(type(width//2),type(width/2.0),type(height/3),type(1+2*3))"
   ]
  },
  {
   "cell_type": "markdown",
   "metadata": {},
   "source": [
    "### Exercise 5: Write a program which prompts the user for a Celsius temperature, convert the temperature to Fahrenheit, and print out the\n",
    "### converted temperature."
   ]
  },
  {
   "cell_type": "code",
   "execution_count": 26,
   "metadata": {},
   "outputs": [
    {
     "name": "stdout",
     "output_type": "stream",
     "text": [
      "Enter the Celsius Temperature:\n",
      "37\n",
      "the value in fahrenheit is: 98.6\n"
     ]
    }
   ],
   "source": [
    "Celsuis=float(input(\"Enter the Celsius Temperature:\\n\"))\n",
    "f=(Celsuis*9)/5.0+32\n",
    "print(\"the value in fahrenheit is:\", f)\n"
   ]
  },
  {
   "cell_type": "markdown",
   "metadata": {},
   "source": [
    "## Chapter 3"
   ]
  },
  {
   "cell_type": "markdown",
   "metadata": {},
   "source": [
    "### Exercise 1: Rewrite your pay computation to give the employee 1.5 times the hourly rate for hours worked above 40 hours."
   ]
  },
  {
   "cell_type": "code",
   "execution_count": 3,
   "metadata": {},
   "outputs": [
    {
     "name": "stdout",
     "output_type": "stream",
     "text": [
      "Enter the rate per hour:10\n",
      "Enter the hours worked:45\n",
      "your pay is: 475.0\n"
     ]
    }
   ],
   "source": [
    "rate=float(input(\"Enter the rate per hour:\"))\n",
    "hours=float(input(\"Enter the hours worked:\"))\n",
    "if hours> 40.0:\n",
    "    print(\"your pay is:\",(hours-40)*rate*1.5+ 40*rate)\n",
    "else:\n",
    "    print(\"your pay is:\", hours*rate)\n",
    "        \n",
    "    "
   ]
  },
  {
   "cell_type": "markdown",
   "metadata": {},
   "source": [
    "### Exercise 2: Rewrite your pay program using try and except so that your program handles non-numeric input gracefully by printing a message and exiting the program. The following shows two executions of the program:"
   ]
  },
  {
   "cell_type": "code",
   "execution_count": 5,
   "metadata": {},
   "outputs": [
    {
     "name": "stdout",
     "output_type": "stream",
     "text": [
      "Enter the rate per hour:ten\n",
      "Please enter a valid number\n"
     ]
    }
   ],
   "source": [
    "try:\n",
    "    rate=float(input(\"Enter the rate per hour:\"))\n",
    "    hours=float(input(\"Enter the hours worked:\"))\n",
    "\n",
    "    if hours> 40.0:\n",
    "        print(\"your pay is:\",hours*rate*1.5)\n",
    "    else:\n",
    "        print(\"your pay is:\", hours*rate)\n",
    "except:\n",
    "    print(\"Please enter a valid number\")\n",
    "    "
   ]
  },
  {
   "cell_type": "markdown",
   "metadata": {},
   "source": [
    "### Exercise 3: Write a program to prompt for a score between 0.0 and 1.0. If the score is out of range, print an error message. If the score is between 0.0 and 1.0, print a grade using the following table:"
   ]
  },
  {
   "cell_type": "code",
   "execution_count": 10,
   "metadata": {},
   "outputs": [
    {
     "name": "stdout",
     "output_type": "stream",
     "text": [
      "Enter the Score between 0.0 and 1.0  : 2\n",
      "Please Enter a valid number between 0.0 and 1.0\n"
     ]
    }
   ],
   "source": [
    "\n",
    "    score=float(input(\"Enter the Score between 0.0 and 1.0  : \"))\n",
    "    if score>= 0.9 and score<=1.0:\n",
    "        print(\"A\")\n",
    "    elif score<0.9 and score>=0.8:\n",
    "        print(\"B\")\n",
    "    elif score<0.8 and score>=0.7:\n",
    "        print(\"C\") \n",
    "    elif score<0.7 and score>=0.6:\n",
    "        print(\"D\")\n",
    "    elif score<0.6 and score>=0.0:\n",
    "        print(\"F\")\n",
    "    else:\n",
    "        print(\"Please Enter a valid number between 0.0 and 1.0:  \")\n",
    "    "
   ]
  },
  {
   "cell_type": "markdown",
   "metadata": {},
   "source": [
    "## Chapter 4"
   ]
  },
  {
   "cell_type": "markdown",
   "metadata": {},
   "source": [
    "### Exercise 5: What will the following Python program print out? (See textbook page 54)\n",
    "### def fred():\n",
    "###     print(\"Zap\")\n",
    "### def jane():\n",
    "###     print(\"ABC\")"
   ]
  },
  {
   "cell_type": "code",
   "execution_count": 24,
   "metadata": {},
   "outputs": [
    {
     "name": "stdout",
     "output_type": "stream",
     "text": [
      "ABC\n",
      "Zap\n",
      "ABC\n"
     ]
    }
   ],
   "source": [
    "def fred():\n",
    "    print(\"Zap\")\n",
    "def jane():\n",
    "    print(\"ABC\")\n",
    "jane()\n",
    "fred()\n",
    "jane()\n",
    "\n"
   ]
  },
  {
   "cell_type": "markdown",
   "metadata": {},
   "source": [
    "### Exercise 6: Rewrite your pay computation with time-and-a-half for over-time and create a function called computepay which takes two parameters (hours and rate)."
   ]
  },
  {
   "cell_type": "code",
   "execution_count": 26,
   "metadata": {},
   "outputs": [
    {
     "name": "stdout",
     "output_type": "stream",
     "text": [
      "enter the hours worked:11\n",
      "enter the rate of work:10\n",
      "your total pay is 115.0\n"
     ]
    }
   ],
   "source": [
    "def computepay(hours, rate):\n",
    "    if hours>10.0:\n",
    "        overtime=(hours-10.0)*1.5*rate+10.0*rate\n",
    "        return overtime\n",
    "    else:\n",
    "        pay=hours*rate\n",
    "        return pay\n",
    "h=float(input(\"enter the hours worked:  \"))\n",
    "r=float(input(\"enter the rate of work:  \"))\n",
    "print(\"your total pay is\", computepay(h,r))\n",
    "        \n"
   ]
  },
  {
   "cell_type": "markdown",
   "metadata": {},
   "source": [
    "### Exercise 7: Rewrite the grade program from the previous chapter using a function called computegrade that takes a score as its parameter and returns a grade as a string."
   ]
  },
  {
   "cell_type": "code",
   "execution_count": 30,
   "metadata": {},
   "outputs": [
    {
     "name": "stdout",
     "output_type": "stream",
     "text": [
      "Enter your score between 0.0 and 1.0:  0.9\n",
      "Your Score is: A\n"
     ]
    }
   ],
   "source": [
    "def computegrade(score):\n",
    "    if score>= 0.9 and score<1.0:\n",
    "        return \"A\"\n",
    "    elif score<0.9 and score>=0.8:\n",
    "        return \"B\"\n",
    "    elif score<0.8 and score>=0.7:\n",
    "        return \"C\" \n",
    "    elif score<0.7 and score>=0.6:\n",
    "        return \"D\"\n",
    "    elif score<0.6 and score>=0.0:\n",
    "        return \"F\"\n",
    "    else:\n",
    "        return \"Please Enter a valid number between 0.0 and 1.0\"\n",
    "s=float(input(\"Enter your score between 0.0 and 1.0:  \"))\n",
    "print(\"Your Score is:\", computegrade(s))"
   ]
  },
  {
   "cell_type": "code",
   "execution_count": null,
   "metadata": {},
   "outputs": [],
   "source": []
  },
  {
   "cell_type": "code",
   "execution_count": null,
   "metadata": {},
   "outputs": [],
   "source": []
  }
 ],
 "metadata": {
  "kernelspec": {
   "display_name": "Python 3",
   "language": "python",
   "name": "python3"
  },
  "language_info": {
   "codemirror_mode": {
    "name": "ipython",
    "version": 3
   },
   "file_extension": ".py",
   "mimetype": "text/x-python",
   "name": "python",
   "nbconvert_exporter": "python",
   "pygments_lexer": "ipython3",
   "version": "3.7.3"
  }
 },
 "nbformat": 4,
 "nbformat_minor": 2
}
