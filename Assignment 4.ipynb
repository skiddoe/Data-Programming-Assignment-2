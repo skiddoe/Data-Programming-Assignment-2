{
 "cells": [
  {
   "cell_type": "markdown",
   "metadata": {},
   "source": [
    "# Assignment 4 RegEx and Web Services"
   ]
  },
  {
   "cell_type": "markdown",
   "metadata": {},
   "source": [
    "## Chapter 11 "
   ]
  },
  {
   "cell_type": "markdown",
   "metadata": {},
   "source": [
    "### Exercise 1"
   ]
  },
  {
   "cell_type": "code",
   "execution_count": 1,
   "metadata": {},
   "outputs": [
    {
     "name": "stdout",
     "output_type": "stream",
     "text": [
      "Enter a regular expression: ^X-\n",
      "14368\n"
     ]
    }
   ],
   "source": [
    "#^X-\n",
    "import re\n",
    "hand=open('mbox.txt')\n",
    "fynd=input(\"Enter a regular expression: \")\n",
    "count=0\n",
    "for line in hand:\n",
    "    line=line.rstrip()\n",
    "    if re.search('\\\\b'+fynd+'\\\\b',line):\n",
    "        count =count+1\n",
    "    \n",
    "print(count)"
   ]
  },
  {
   "cell_type": "markdown",
   "metadata": {},
   "source": [
    "### Exercise 2"
   ]
  },
  {
   "cell_type": "code",
   "execution_count": 3,
   "metadata": {},
   "outputs": [
    {
     "name": "stdout",
     "output_type": "stream",
     "text": [
      "Enter the file name: mbox.txt\n",
      "the total count revision number is :  1790\n",
      "the average revision number is: 38549.79497206704\n"
     ]
    }
   ],
   "source": [
    "#mbox.txt\n",
    "import re\n",
    "fname = input('Enter the file name: ')\n",
    "fhand = open(fname)\n",
    "count = 0\n",
    "total=0\n",
    "for line in fhand:\n",
    "    line=line.rstrip()\n",
    "    x=re.findall('^New R\\S*: ([0-9.]+)',line)\n",
    "    if len(x)>0:\n",
    "        count = count + 1\n",
    "        x=list(map(int,x))\n",
    "        #print(x)\n",
    "        \n",
    "        for number in x:\n",
    "            total=total+ number\n",
    "        \n",
    "print(\"the total count revision number is : \",count)\n",
    "print(\"the average revision number is:\",total/count)"
   ]
  },
  {
   "cell_type": "markdown",
   "metadata": {},
   "source": [
    "## Chapter 12"
   ]
  },
  {
   "cell_type": "markdown",
   "metadata": {},
   "source": [
    "### Exercise 1"
   ]
  },
  {
   "cell_type": "code",
   "execution_count": 49,
   "metadata": {
    "scrolled": true
   },
   "outputs": [
    {
     "name": "stdout",
     "output_type": "stream",
     "text": [
      "Enter the URL:  http://data.pr4e.org/romeo.txt\n",
      "http://data.pr4e.org/romeo.txt\n",
      "data.pr4e.org\n",
      "HTTP/1.1 200 OK\n",
      "Date: Thu, 03 Oct 2019 19:24:45 GMT\n",
      "Server: Apache/2.4.18 (Ubuntu)\n",
      "Last-Modified: Sat, 13 May 2017 11:22:22 GMT\n",
      "ETag: \"a7-54f6609245537\"\n",
      "Accept-Ranges: bytes\n",
      "Content-Length: 167\n",
      "Cache-Control: max-age=0, no-cache, no-store, must-revalidate\n",
      "Pragma: no-cache\n",
      "Expires: Wed, 11 Jan 1984 05:00:00 GMT\n",
      "Connection: close\n",
      "Content-Type: text/plain\n",
      "\n",
      "But soft what light through yonder window breaks\n",
      "It is the east and Juliet is the sun\n",
      "Arise fair sun and kill the envious moon\n",
      "Who is already sick and pale with grief\n"
     ]
    }
   ],
   "source": [
    "#http://data.pr4e.org/romeo.txt\n",
    "import socket\n",
    "import re\n",
    "\n",
    "userurl=input(\"Enter the URL:  \")\n",
    "try:\n",
    "    slashpart=userurl.split(\"/\")[2]\n",
    "    print(userurl)\n",
    "    print(slashpart)\n",
    "    mysock = socket.socket(socket.AF_INET, socket.SOCK_STREAM)\n",
    "    mysock.connect((slashpart, 80))\n",
    "    cmdx = 'GET ' + userurl + ' HTTP/1.0\\r\\n\\r\\n'\n",
    "    cmd=cmdx.encode()\n",
    "    mysock.send(cmd)\n",
    "    while True:\n",
    "        data=mysock.recv(512)\n",
    "        if len(data)<1:\n",
    "            break\n",
    "        print(data.decode(),end='')\n",
    "    mysock.close()\n",
    "\n",
    "except:\n",
    "    print(\"Please Enter a valid URL\")\n",
    "    "
   ]
  },
  {
   "cell_type": "markdown",
   "metadata": {},
   "source": [
    "### Exercise 2"
   ]
  },
  {
   "cell_type": "code",
   "execution_count": 6,
   "metadata": {},
   "outputs": [
    {
     "name": "stdout",
     "output_type": "stream",
     "text": [
      "Enter the URL:  http://data.pr4e.org/romeo.txt\n",
      "http://data.pr4e.org/romeo.txt\n",
      "data.pr4e.org\n",
      "HTTP/1.1 200 OK\n",
      "Date: Thu, 03 Oct 2019 21:09:31 GMT\n",
      "Server: Apache/2.4.18 (Ubuntu)\n",
      "Last-Modified: Sat, 13 May 2017 11:22:22 GMT\n",
      "ETag: \"a7-54f6609245537\"\n",
      "Accept-Ranges: bytes\n",
      "Content-Length: 167\n",
      "Cache-Control: max-age=0, no-cache, no-store, must-revalidate\n",
      "Pragma: no-cache\n",
      "Expires: Wed, 11 Jan 1984 05:00:00 GMT\n",
      "Connection: close\n",
      "Content-Type: text/plain\n",
      "\n",
      "But soft what light through yonder window breaks\n",
      "It is the east and Juliet is the sun\n",
      "Arise fair sun and kill the envious moon\n",
      "Who is already sick and pale with grief\n",
      "the total count is: 536\n"
     ]
    }
   ],
   "source": [
    "#http://data.pr4e.org/romeo.txt\n",
    "import socket\n",
    "import re\n",
    "\n",
    "userurl=input(\"Enter the URL:  \")\n",
    "try:\n",
    "    slashpart=userurl.split(\"/\")[2]\n",
    "    print(userurl)\n",
    "    print(slashpart)\n",
    "    mysock = socket.socket(socket.AF_INET, socket.SOCK_STREAM)\n",
    "    mysock.connect((slashpart, 80))\n",
    "    cmdx = 'GET ' + userurl + ' HTTP/1.0\\r\\n\\r\\n'\n",
    "    cmd=cmdx.encode()\n",
    "    mysock.send(cmd)\n",
    "    count=0\n",
    "    while True:\n",
    "        data=mysock.recv(512)\n",
    "        count+=len(data)\n",
    "        if (len(data)<1) or count>=3000:\n",
    "            break\n",
    "        #print(data)\n",
    "        print(data.decode(),end='')\n",
    "    mysock.close()\n",
    "    print(\"the total count is:\",count)\n",
    "\n",
    "except:\n",
    "    print(\"Please Enter a valid URL\")\n",
    "    \n",
    "  "
   ]
  },
  {
   "cell_type": "markdown",
   "metadata": {},
   "source": [
    "### Exercise 3"
   ]
  },
  {
   "cell_type": "code",
   "execution_count": 50,
   "metadata": {},
   "outputs": [
    {
     "name": "stdout",
     "output_type": "stream",
     "text": [
      "Enter a HTTP Link:http://data.pr4e.org/romeo.txt\n",
      "['B', 'u', 't', 's', 'o', 'f', 't', 'w', 'h', 'a', 't', 'l', 'i', 'g', 'h', 't', 't', 'h', 'r', 'o', 'u', 'g', 'h', 'y', 'o', 'n', 'd', 'e', 'r', 'w', 'i', 'n', 'd', 'o', 'w', 'b', 'r', 'e', 'a', 'k', 's', 'I', 't', 'i', 's', 't', 'h', 'e', 'e', 'a', 's', 't', 'a', 'n', 'd', 'J', 'u', 'l', 'i', 'e', 't', 'i', 's', 't', 'h', 'e', 's', 'u', 'n', 'A', 'r', 'i', 's', 'e', 'f', 'a', 'i', 'r', 's', 'u', 'n', 'a', 'n', 'd', 'k', 'i', 'l', 'l', 't', 'h', 'e', 'e', 'n', 'v', 'i', 'o', 'u', 's', 'm', 'o', 'o', 'n', 'W', 'h', 'o', 'i', 's', 'a', 'l', 'r', 'e', 'a', 'd', 'y', 's', 'i', 'c', 'k', 'a', 'n', 'd', 'p', 'a', 'l', 'e', 'w', 'i', 't', 'h', 'g', 'r', 'i', 'e', 'f']\n",
      "The total count of characters is: 134\n"
     ]
    }
   ],
   "source": [
    "#http://data.pr4e.org/romeo.txt\n",
    "import urllib.request\n",
    "import urllib.parse\n",
    "import urllib.error\n",
    "userin=input(\"Enter a HTTP Link:\")\n",
    "try:\n",
    "    fhand=urllib.request.urlopen(userin)\n",
    "    \n",
    "except:\n",
    "    print(\"Enter a correct URL\")\n",
    "    quit()\n",
    "lst=list()\n",
    "count=0\n",
    "#print(fhand)\n",
    "for line in fhand:\n",
    "    words=line.decode().split()\n",
    "    #print(words)\n",
    "    for word in words:\n",
    "        #print(word)\n",
    "        for char in word:\n",
    "            #print(char)\n",
    "            count=count+1\n",
    "            lst.append(char)\n",
    "\n",
    "print(lst[:3001])\n",
    "print(\"The total count of characters is:\", count)"
   ]
  },
  {
   "cell_type": "markdown",
   "metadata": {},
   "source": [
    "### Exercise 4"
   ]
  },
  {
   "cell_type": "code",
   "execution_count": 55,
   "metadata": {},
   "outputs": [
    {
     "name": "stdout",
     "output_type": "stream",
     "text": [
      "Enter the URL Link- https://docs.python.org\n",
      "The total count of Tag is: 25\n"
     ]
    }
   ],
   "source": [
    "#https://docs.python.org\n",
    "import urllib.request\n",
    "import urllib.parse\n",
    "import urllib.error\n",
    "import ssl\n",
    "from bs4 import BeautifulSoup\n",
    "\n",
    "count=0\n",
    "ctx=ssl.create_default_context()\n",
    "ctx.check_hostname=False\n",
    "ctx.verify_mode=ssl.CERT_NONE\n",
    "\n",
    "url=input(\"Enter the URL Link- \")\n",
    "html=urllib.request.urlopen(url, context=ctx).read()\n",
    "soup=BeautifulSoup(html, 'html.parser')\n",
    "\n",
    "tags=soup('p')\n",
    "#print (tags)\n",
    "for tag in tags:\n",
    "    count=count+1\n",
    "print(\"The total count of Tag is:\",count)"
   ]
  },
  {
   "cell_type": "markdown",
   "metadata": {},
   "source": [
    "### Exercise 5"
   ]
  },
  {
   "cell_type": "code",
   "execution_count": 56,
   "metadata": {},
   "outputs": [
    {
     "name": "stdout",
     "output_type": "stream",
     "text": [
      "The blank line is at: 365\n",
      "\r\n",
      "\r\n",
      "But soft what light through yonder window breaks\n",
      "It is the east and Juliet is the sun\n",
      "Arise fair sun and kill the envious moon\n",
      "Who is already sick and pale with grief\n",
      "\n"
     ]
    }
   ],
   "source": [
    "import socket\n",
    "mysock = socket.socket(socket.AF_INET, socket.SOCK_STREAM)\n",
    "mysock.connect( ('data.pr4e.org', 80) )\n",
    "cmd = 'GET http://data.pr4e.org/romeo.txt HTTP/1.0\\r\\n\\r\\n'.encode()\n",
    "mysock.send(cmd)\n",
    "\n",
    "while True :\n",
    "    data = mysock.recv(1024)\n",
    "    if len(data) < 1 :\n",
    "        break\n",
    "    data = data.decode()\n",
    "    y = data.find('\\r\\n\\r\\n')\n",
    "    print(\"The blank line is at:\",y)\n",
    "    print(data[y:])\n",
    "\n",
    "mysock.close()"
   ]
  },
  {
   "cell_type": "code",
   "execution_count": null,
   "metadata": {},
   "outputs": [],
   "source": []
  }
 ],
 "metadata": {
  "kernelspec": {
   "display_name": "Python 3",
   "language": "python",
   "name": "python3"
  },
  "language_info": {
   "codemirror_mode": {
    "name": "ipython",
    "version": 3
   },
   "file_extension": ".py",
   "mimetype": "text/x-python",
   "name": "python",
   "nbconvert_exporter": "python",
   "pygments_lexer": "ipython3",
   "version": "3.7.3"
  }
 },
 "nbformat": 4,
 "nbformat_minor": 2
}
